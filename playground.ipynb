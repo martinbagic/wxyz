{
 "nbformat": 4,
 "nbformat_minor": 2,
 "metadata": {
  "language_info": {
   "name": "python",
   "codemirror_mode": {
    "name": "ipython",
    "version": 3
   },
   "version": "3.6.9-final"
  },
  "orig_nbformat": 2,
  "file_extension": ".py",
  "mimetype": "text/x-python",
  "name": "python",
  "npconvert_exporter": "python",
  "pygments_lexer": "ipython3",
  "version": 3,
  "kernelspec": {
   "name": "python36964bit3d17cfd64b5946229f142f5f43fe5396",
   "display_name": "Python 3.6.9 64-bit"
  }
 },
 "cells": [
  {
   "cell_type": "code",
   "execution_count": 38,
   "metadata": {},
   "outputs": [
    {
     "output_type": "error",
     "ename": "KeyboardInterrupt",
     "evalue": "",
     "traceback": [
      "\u001b[0;31m---------------------------------------------------------------------------\u001b[0m",
      "\u001b[0;31mKeyboardInterrupt\u001b[0m                         Traceback (most recent call last)",
      "\u001b[0;32m<ipython-input-38-2318dc704795>\u001b[0m in \u001b[0;36m<module>\u001b[0;34m\u001b[0m\n\u001b[1;32m      3\u001b[0m \u001b[0;34m\u001b[0m\u001b[0m\n\u001b[1;32m      4\u001b[0m \u001b[0mx\u001b[0m \u001b[0;34m=\u001b[0m \u001b[0mnp\u001b[0m\u001b[0;34m.\u001b[0m\u001b[0mrandom\u001b[0m\u001b[0;34m.\u001b[0m\u001b[0mrandint\u001b[0m\u001b[0;34m(\u001b[0m\u001b[0;36m0\u001b[0m\u001b[0;34m,\u001b[0m\u001b[0;36m2\u001b[0m\u001b[0;34m,\u001b[0m\u001b[0msize\u001b[0m\u001b[0;34m=\u001b[0m\u001b[0;36m10\u001b[0m\u001b[0;34m**\u001b[0m\u001b[0;36m8\u001b[0m\u001b[0;34m)\u001b[0m\u001b[0;34m\u001b[0m\u001b[0;34m\u001b[0m\u001b[0m\n\u001b[0;32m----> 5\u001b[0;31m \u001b[0my\u001b[0m \u001b[0;34m=\u001b[0m \u001b[0mnp\u001b[0m\u001b[0;34m.\u001b[0m\u001b[0mrandom\u001b[0m\u001b[0;34m.\u001b[0m\u001b[0mchoice\u001b[0m\u001b[0;34m(\u001b[0m\u001b[0;34m[\u001b[0m\u001b[0;36m0\u001b[0m\u001b[0;34m,\u001b[0m\u001b[0;36m1\u001b[0m\u001b[0;34m]\u001b[0m\u001b[0;34m,\u001b[0m\u001b[0mp\u001b[0m\u001b[0;34m=\u001b[0m\u001b[0;34m[\u001b[0m\u001b[0;36m0.5\u001b[0m\u001b[0;34m,\u001b[0m\u001b[0;36m0.5\u001b[0m\u001b[0;34m]\u001b[0m\u001b[0;34m,\u001b[0m\u001b[0msize\u001b[0m\u001b[0;34m=\u001b[0m\u001b[0;36m10\u001b[0m\u001b[0;34m**\u001b[0m\u001b[0;36m8\u001b[0m\u001b[0;34m)\u001b[0m\u001b[0;34m\u001b[0m\u001b[0;34m\u001b[0m\u001b[0m\n\u001b[0m",
      "\u001b[0;31mKeyboardInterrupt\u001b[0m: "
     ]
    }
   ],
   "source": [
    "import numpy as np\n",
    "import time\n",
    "\n",
    "x = np.random.randint(0,2,size=10**8)\n",
    "y = np.random.choice([0,1],p=[0.5,0.5],size=10**8)"
   ]
  },
  {
   "cell_type": "code",
   "execution_count": 15,
   "metadata": {},
   "outputs": [
    {
     "output_type": "execute_result",
     "data": {
      "text/plain": "50"
     },
     "metadata": {},
     "execution_count": 15
    }
   ],
   "source": [
    "import config\n",
    "config.load_config('config.yml')\n",
    "\n",
    "import population\n",
    "\n",
    "population.Population.a\n",
    "# funcs.load_config('config.yml')\n",
    "# print(funcs.config)"
   ]
  },
  {
   "cell_type": "code",
   "execution_count": 72,
   "metadata": {},
   "outputs": [
    {
     "output_type": "execute_result",
     "data": {
      "text/plain": "array([0.03125  , 0.125    , 0.25     , 0.0078125, 0.03125  , 0.0078125,\n       0.0078125, 0.03125  , 0.015625 , 0.0078125])"
     },
     "metadata": {},
     "execution_count": 72
    }
   ],
   "source": [
    "x = np.random.randint(0,2,(10,10))\n",
    "\n",
    "1/2**np.sum(x,axis=1)"
   ]
  },
  {
   "cell_type": "code",
   "execution_count": 63,
   "metadata": {},
   "outputs": [
    {
     "output_type": "execute_result",
     "data": {
      "text/plain": "15.05149978319906"
     },
     "metadata": {},
     "execution_count": 63
    }
   ],
   "source": [
    "x = np.arange(1,9)\n",
    "\n",
    "# 1 / 2**x\n",
    "np.log10(2**50)"
   ]
  },
  {
   "cell_type": "code",
   "execution_count": 37,
   "metadata": {},
   "outputs": [
    {
     "output_type": "error",
     "ename": "IndexError",
     "evalue": "shape mismatch: indexing arrays could not be broadcast together with shapes (100,) (10,) ",
     "traceback": [
      "\u001b[0;31m---------------------------------------------------------------------------\u001b[0m",
      "\u001b[0;31mIndexError\u001b[0m                                Traceback (most recent call last)",
      "\u001b[0;32m<ipython-input-37-634756750325>\u001b[0m in \u001b[0;36m<module>\u001b[0;34m\u001b[0m\n\u001b[1;32m      5\u001b[0m \u001b[0my\u001b[0m \u001b[0;34m=\u001b[0m \u001b[0mnp\u001b[0m\u001b[0;34m.\u001b[0m\u001b[0marange\u001b[0m\u001b[0;34m(\u001b[0m\u001b[0;36m10\u001b[0m\u001b[0;34m)\u001b[0m\u001b[0;34m\u001b[0m\u001b[0;34m\u001b[0m\u001b[0m\n\u001b[1;32m      6\u001b[0m \u001b[0;34m\u001b[0m\u001b[0m\n\u001b[0;32m----> 7\u001b[0;31m \u001b[0mx\u001b[0m\u001b[0;34m[\u001b[0m\u001b[0mx\u001b[0m\u001b[0;34m.\u001b[0m\u001b[0mflat\u001b[0m\u001b[0;34m,\u001b[0m\u001b[0my\u001b[0m\u001b[0;34m]\u001b[0m\u001b[0;34m\u001b[0m\u001b[0;34m\u001b[0m\u001b[0m\n\u001b[0m",
      "\u001b[0;31mIndexError\u001b[0m: shape mismatch: indexing arrays could not be broadcast together with shapes (100,) (10,) "
     ]
    }
   ],
   "source": [
    "import numpy as np\n",
    "\n",
    "x = np.arange(100).reshape(10,10)\n",
    "\n",
    "y = np.arange(10)\n",
    "\n",
    "x[,y]\n"
   ]
  },
  {
   "cell_type": "code",
   "execution_count": 42,
   "metadata": {},
   "outputs": [
    {
     "output_type": "stream",
     "name": "stdout",
     "text": "135 ms ± 827 µs per loop (mean ± std. dev. of 7 runs, 10 loops each)\n"
    }
   ],
   "source": [
    "%%timeit\n",
    "x = np.random.random(size=10**7)"
   ]
  },
  {
   "cell_type": "code",
   "execution_count": 40,
   "metadata": {},
   "outputs": [
    {
     "output_type": "stream",
     "name": "stdout",
     "text": "4.72 s ± 108 ms per loop (mean ± std. dev. of 7 runs, 1 loop each)\n"
    }
   ],
   "source": [
    "%%timeit\n",
    "y = np.random.choice([0,1],p=[0.5,0.5],size=10**8)"
   ]
  },
  {
   "cell_type": "code",
   "execution_count": 29,
   "metadata": {},
   "outputs": [
    {
     "name": "stdout",
     "output_type": "stream",
     "text": "The autoreload extension is already loaded. To reload it, use:\n  %reload_ext autoreload\n"
    }
   ],
   "source": [
    "%load_ext autoreload\n",
    "%autoreload 2"
   ]
  },
  {
   "cell_type": "code",
   "execution_count": 69,
   "metadata": {},
   "outputs": [],
   "source": [
    "import time\n",
    "import pickle\n",
    "import os\n",
    "\n",
    "def save_pop(pop):\n",
    "    filenames = [int(x) for x in os.listdir('pops')] + [0]\n",
    "    filename = max(filenames)+1\n",
    "    print(f\"Saving to filename '{filename}'.\")\n",
    "\n",
    "    with open(f\"pops/{filename}\", \"wb\") as f:\n",
    "        pickle.dump(pop, f)\n",
    "    return filename\n",
    "\n",
    "def load_pop(filename):\n",
    "    with open(f\"pops/{filename}\",\"rb\") as f:\n",
    "        pop = pickle.load(f)\n",
    "    return pop"
   ]
  },
  {
   "cell_type": "code",
   "execution_count": 77,
   "metadata": {},
   "outputs": [],
   "source": [
    "from population import Population\n",
    "from funcs import plot\n",
    "\n",
    "def run(cycles=1000, filename=None):\n",
    "\n",
    "    if filename:\n",
    "        pop = load_pop(filename)\n",
    "        flag = True\n",
    "    else:\n",
    "        pop = Population()\n",
    "        flag = False\n",
    "\n",
    "    i = 0\n",
    "    while not flag:\n",
    "        pop.cycle()\n",
    "        flag = len(pop.genomes) > 1500\n",
    "        if not i % 100:\n",
    "            print(i, len(pop.genomes), sep='\\t')\n",
    "        i+=1\n",
    "\n",
    "\n",
    "    if flag:\n",
    "        for i in range(cycles):\n",
    "            pop.cycle()\n",
    "            if not i % 100:\n",
    "                print(i, len(pop.genomes), sep='\\t')\n",
    "\n",
    "    return pop"
   ]
  },
  {
   "cell_type": "code",
   "execution_count": 81,
   "metadata": {},
   "outputs": [
    {
     "name": "stdout",
     "output_type": "stream",
     "text": "Saving to filename '14'.\n"
    },
    {
     "ename": "PicklingError",
     "evalue": "Can't pickle <class 'population.Population'>: it's not the same object as population.Population",
     "output_type": "error",
     "traceback": [
      "\u001b[0;31m---------------------------------------------------------------------------\u001b[0m",
      "\u001b[0;31mPicklingError\u001b[0m                             Traceback (most recent call last)",
      "\u001b[0;32m<ipython-input-81-a98a8fb4b7c9>\u001b[0m in \u001b[0;36m<module>\u001b[0;34m\u001b[0m\n\u001b[1;32m      5\u001b[0m \u001b[0;31m#     filename=filename,\u001b[0m\u001b[0;34m\u001b[0m\u001b[0;34m\u001b[0m\u001b[0;34m\u001b[0m\u001b[0m\n\u001b[1;32m      6\u001b[0m \u001b[0;31m# )\u001b[0m\u001b[0;34m\u001b[0m\u001b[0;34m\u001b[0m\u001b[0;34m\u001b[0m\u001b[0m\n\u001b[0;32m----> 7\u001b[0;31m \u001b[0mpickle_name\u001b[0m \u001b[0;34m=\u001b[0m \u001b[0msave_pop\u001b[0m\u001b[0;34m(\u001b[0m\u001b[0mpop\u001b[0m\u001b[0;34m)\u001b[0m\u001b[0;34m\u001b[0m\u001b[0;34m\u001b[0m\u001b[0m\n\u001b[0m\u001b[1;32m      8\u001b[0m \u001b[0mplot\u001b[0m\u001b[0;34m(\u001b[0m\u001b[0mpop\u001b[0m\u001b[0;34m,\u001b[0m \u001b[0mpickle_name\u001b[0m\u001b[0;34m)\u001b[0m\u001b[0;34m\u001b[0m\u001b[0;34m\u001b[0m\u001b[0m\n",
      "\u001b[0;32m<ipython-input-69-eae6c79d40cb>\u001b[0m in \u001b[0;36msave_pop\u001b[0;34m(pop)\u001b[0m\n\u001b[1;32m      9\u001b[0m \u001b[0;34m\u001b[0m\u001b[0m\n\u001b[1;32m     10\u001b[0m     \u001b[0;32mwith\u001b[0m \u001b[0mopen\u001b[0m\u001b[0;34m(\u001b[0m\u001b[0;34mf\"pops/{filename}\"\u001b[0m\u001b[0;34m,\u001b[0m \u001b[0;34m\"wb\"\u001b[0m\u001b[0;34m)\u001b[0m \u001b[0;32mas\u001b[0m \u001b[0mf\u001b[0m\u001b[0;34m:\u001b[0m\u001b[0;34m\u001b[0m\u001b[0;34m\u001b[0m\u001b[0m\n\u001b[0;32m---> 11\u001b[0;31m         \u001b[0mpickle\u001b[0m\u001b[0;34m.\u001b[0m\u001b[0mdump\u001b[0m\u001b[0;34m(\u001b[0m\u001b[0mpop\u001b[0m\u001b[0;34m,\u001b[0m \u001b[0mf\u001b[0m\u001b[0;34m)\u001b[0m\u001b[0;34m\u001b[0m\u001b[0;34m\u001b[0m\u001b[0m\n\u001b[0m\u001b[1;32m     12\u001b[0m     \u001b[0;32mreturn\u001b[0m \u001b[0mfilename\u001b[0m\u001b[0;34m\u001b[0m\u001b[0;34m\u001b[0m\u001b[0m\n\u001b[1;32m     13\u001b[0m \u001b[0;34m\u001b[0m\u001b[0m\n",
      "\u001b[0;31mPicklingError\u001b[0m: Can't pickle <class 'population.Population'>: it's not the same object as population.Population"
     ]
    }
   ],
   "source": [
    "# filename = None\n",
    "\n",
    "# pop = run(\n",
    "#     cycles=4000,\n",
    "#     filename=filename,\n",
    "# )\n",
    "pickle_name = save_pop(pop)\n",
    "plot(pop, pickle_name)"
   ]
  },
  {
   "cell_type": "code",
   "execution_count": null,
   "metadata": {},
   "outputs": [],
   "source": []
  },
  {
   "cell_type": "code",
   "execution_count": 4,
   "metadata": {},
   "outputs": [],
   "source": [
    "import collections\n",
    "import yaml\n",
    "\n",
    "with open('config.yml','r') as f:\n",
    "    d = yaml.load(f)\n",
    "    config = collections.namedtuple(\"config\", d.keys())(*d.values())"
   ]
  },
  {
   "cell_type": "code",
   "execution_count": 22,
   "metadata": {},
   "outputs": [
    {
     "output_type": "execute_result",
     "data": {
      "text/plain": "0.031219482421875"
     },
     "metadata": {},
     "execution_count": 22
    }
   ],
   "source": [
    "# test if mutation rate 1 with genomes 50% is stable\n",
    "\n",
    "import numpy as np\n",
    "\n",
    "maturation_age = 5\n",
    "reproducing_age = 10\n",
    "\n",
    "sp = 0.5\n",
    "rp = 0.5\n",
    "\n",
    "def genomic_fitness(maturation_age, reproducing_age, sp, rp):\n",
    "    return sum(\n",
    "        rp * sp**(i+maturation_age)\n",
    "        for i in range(reproducing_age)\n",
    "    )\n",
    "\n",
    "genomic_fitness(\n",
    "    maturation_age,\n",
    "    reproducing_age,\n",
    "    sp,\n",
    "    rp\n",
    ")"
   ]
  },
  {
   "cell_type": "code",
   "execution_count": 1,
   "metadata": {},
   "outputs": [],
   "source": [
    "import numpy as np\n",
    "# points = np.linspace(0,1,10)\n",
    "# sp = np.meshgrid(*[np.linspace(0.4,0.6,3,dtype=np.float32)]*15)"
   ]
  },
  {
   "cell_type": "code",
   "execution_count": 4,
   "metadata": {},
   "outputs": [],
   "source": [
    "rez = np.zeros(shape=(4,)*15,dtype=np.float32)"
   ]
  },
  {
   "cell_type": "code",
   "execution_count": 15,
   "metadata": {
    "tags": [
     "outputPrepend",
     "outputPrepend",
     "outputPrepend",
     "outputPrepend",
     "outputPrepend",
     "outputPrepend",
     "outputPrepend",
     "outputPrepend",
     "outputPrepend",
     "outputPrepend",
     "outputPrepend",
     "outputPrepend",
     "outputPrepend"
    ]
   },
   "outputs": [
    {
     "output_type": "stream",
     "name": "stdout",
     "text": "1000000 0.0009313225746154785 1073741824\n2000000 0.001862645149230957 1073741824\n3000000 0.0027939677238464355 1073741824\n4000000 0.003725290298461914 1073741824\n5000000 0.004656612873077393 1073741824\n6000000 0.005587935447692871 1073741824\n7000000 0.00651925802230835 1073741824\n8000000 0.007450580596923828 1073741824\n9000000 0.008381903171539307 1073741824\n10000000 0.009313225746154785 1073741824\n11000000 0.010244548320770264 1073741824\n12000000 0.011175870895385742 1073741824\n13000000 0.01210719347000122 1073741824\n14000000 0.0130385160446167 1073741824\n15000000 0.013969838619232178 1073741824\n16000000 0.014901161193847656 1073741824\n17000000 0.015832483768463135 1073741824\n18000000 0.016763806343078613 1073741824\n19000000 0.017695128917694092 1073741824\n20000000 0.01862645149230957 1073741824\n21000000 0.01955777406692505 1073741824\n22000000 0.020489096641540527 1073741824\n23000000 0.021420419216156006 1073741824\n24000000 0.022351741790771484 1073741824\n25000000 0.023283064365386963 1073741824\n26000000 0.02421438694000244 1073741824\n27000000 0.02514570951461792 1073741824\n28000000 0.0260770320892334 1073741824\n"
    },
    {
     "output_type": "error",
     "ename": "KeyboardInterrupt",
     "evalue": "",
     "traceback": [
      "\u001b[0;31m---------------------------------------------------------------------------\u001b[0m",
      "\u001b[0;31mKeyboardInterrupt\u001b[0m                         Traceback (most recent call last)",
      "\u001b[0;32m<ipython-input-15-b401143f2f05>\u001b[0m in \u001b[0;36m<module>\u001b[0;34m\u001b[0m\n\u001b[1;32m      9\u001b[0m \u001b[0;32mfor\u001b[0m \u001b[0mvs\u001b[0m \u001b[0;32min\u001b[0m \u001b[0mitertools\u001b[0m\u001b[0;34m.\u001b[0m\u001b[0mproduct\u001b[0m\u001b[0;34m(\u001b[0m\u001b[0;34m*\u001b[0m\u001b[0;34m[\u001b[0m\u001b[0mcoords\u001b[0m\u001b[0;34m]\u001b[0m\u001b[0;34m*\u001b[0m\u001b[0;36m15\u001b[0m\u001b[0;34m)\u001b[0m\u001b[0;34m:\u001b[0m\u001b[0;34m\u001b[0m\u001b[0;34m\u001b[0m\u001b[0m\n\u001b[1;32m     10\u001b[0m     \u001b[0mc\u001b[0m \u001b[0;34m+=\u001b[0m \u001b[0;36m1\u001b[0m\u001b[0;34m\u001b[0m\u001b[0;34m\u001b[0m\u001b[0m\n\u001b[0;32m---> 11\u001b[0;31m     \u001b[0;32mif\u001b[0m \u001b[0;32mnot\u001b[0m \u001b[0mc\u001b[0m \u001b[0;34m%\u001b[0m \u001b[0;36m1000000\u001b[0m\u001b[0;34m:\u001b[0m\u001b[0;34m\u001b[0m\u001b[0;34m\u001b[0m\u001b[0m\n\u001b[0m\u001b[1;32m     12\u001b[0m         \u001b[0mprint\u001b[0m\u001b[0;34m(\u001b[0m\u001b[0mc\u001b[0m\u001b[0;34m,\u001b[0m\u001b[0mc\u001b[0m\u001b[0;34m/\u001b[0m\u001b[0mtotal\u001b[0m\u001b[0;34m,\u001b[0m\u001b[0mtotal\u001b[0m\u001b[0;34m)\u001b[0m\u001b[0;34m\u001b[0m\u001b[0;34m\u001b[0m\u001b[0m\n",
      "\u001b[0;31mKeyboardInterrupt\u001b[0m: "
     ]
    }
   ],
   "source": [
    "import itertools\n",
    "points = (0.4,0.5,0.6,0.9)\n",
    "coords = (0,1,2,3)\n",
    "\n",
    "c = 0\n",
    "\n",
    "total = 4**15\n",
    "\n",
    "def genomic_fitness(genome):\n",
    "    surv = np.prod(genome[:5])\n",
    "    res = surv\n",
    "    for i in r\n",
    "\n",
    "file = open('values.txt', 'w')\n",
    "\n",
    "for i, vs in enumerate(itertools.product(*[points]*15)):\n",
    "\n",
    "\n",
    "\n",
    "    if not i % 1000000:\n",
    "        print(i/total)\n",
    "\n",
    "    \n"
   ]
  }
 ]
}