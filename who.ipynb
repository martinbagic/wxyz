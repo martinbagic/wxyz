{
 "nbformat": 4,
 "nbformat_minor": 2,
 "metadata": {
  "language_info": {
   "name": "python",
   "codemirror_mode": {
    "name": "ipython",
    "version": 3
   },
   "version": "3.6.9-final"
  },
  "orig_nbformat": 2,
  "file_extension": ".py",
  "mimetype": "text/x-python",
  "name": "python",
  "npconvert_exporter": "python",
  "pygments_lexer": "ipython3",
  "version": 3,
  "kernelspec": {
   "name": "python36964bit3d17cfd64b5946229f142f5f43fe5396",
   "display_name": "Python 3.6.9 64-bit"
  }
 },
 "cells": [
  {
   "cell_type": "code",
   "execution_count": 8,
   "metadata": {},
   "outputs": [
    {
     "output_type": "stream",
     "name": "stdout",
     "text": "<li>In a pot with plenty of water, cook the pasta according to the instructions on the package. Try to avoid overcooking, to keep the nutritional properties and texture of the pasta. Cool the pasta under running water, drizzle with some oil and set aside.</li>\n<li>Cook the broccoli in boiling water for 8 minutes (or 10 minutes for frozen broccoli), drain and set aside.</li>\n<li>Meanwhile, sauté the onion, garlic and celery with a drizzle of oil for 5–8 minutes over a medium heat. Add the dried thyme and carrot and cook for another 5 minutes over a medium heat. Then add the tomato and tuna. Stir the sauce and let it cook for another 10 minutes, tasting and refining the flavours with herbs and spices, if needed.</li>\n<li>Add the pasta and broccoli to the sauce and stir until hot. Flavour with a small amount of low-sodium soy sauce if desired and serve with finely chopped basil.</li>\n"
    }
   ],
   "source": [
    "s = \"\"\"\n",
    "\tIn a pot with plenty of water, cook the pasta according to the instructions on the package. Try to avoid overcooking, to keep the nutritional properties and texture of the pasta. Cool the pasta under running water, drizzle with some oil and set aside.\n",
    "\tCook the broccoli in boiling water for 8 minutes (or 10 minutes for frozen broccoli), drain and set aside. \n",
    "\tMeanwhile, sauté the onion, garlic and celery with a drizzle of oil for 5–8 minutes over a medium heat. Add the dried thyme and carrot and cook for another 5 minutes over a medium heat. Then add the tomato and tuna. Stir the sauce and let it cook for another 10 minutes, tasting and refining the flavours with herbs and spices, if needed. \n",
    "\tAdd the pasta and broccoli to the sauce and stir until hot. Flavour with a small amount of low-sodium soy sauce if desired and serve with finely chopped basil.\n",
    "\n",
    "\n",
    "\"\"\"\n",
    "\n",
    "s = [x.strip() for x in s.strip().split('\\n')]\n",
    "\n",
    "for x in s:\n",
    "    print(f'<li>{x}</li>')"
   ]
  }
 ]
}